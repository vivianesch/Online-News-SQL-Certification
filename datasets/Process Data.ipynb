{
 "cells": [
  {
   "cell_type": "markdown",
   "id": "simple-header",
   "metadata": {},
   "source": [
    "### Original data processing (try not to rerun)"
   ]
  },
  {
   "cell_type": "code",
   "execution_count": 1,
   "id": "scenic-lloyd",
   "metadata": {},
   "outputs": [],
   "source": [
    "# Import data and read in csv\n",
    "import pandas as pd\n",
    "import numpy as np\n",
    "import uuid\n",
    "df = pd.read_csv('final_news_df.csv')\n",
    "pd.set_option(\"max_colwidth\", 100)"
   ]
  },
  {
   "cell_type": "code",
   "execution_count": 4,
   "id": "informative-messenger",
   "metadata": {},
   "outputs": [],
   "source": [
    "# Reduce size of dataset\n",
    "df_red = df.sample(frac=0.2, random_state=42)"
   ]
  },
  {
   "cell_type": "code",
   "execution_count": 6,
   "id": "closed-recording",
   "metadata": {
    "scrolled": true
   },
   "outputs": [],
   "source": [
    "# Create article_key column\n",
    "### NOTE: Do not rerun this unless you want to create unique keys\n",
    "df_red['article_key'] = [uuid.uuid1() for x in range(0, len(df_red))]\n",
    "df_red.reset_index(drop=True, inplace=True)\n",
    "df_red['article_key'] = df_red.article_key.astype(str)"
   ]
  },
  {
   "cell_type": "code",
   "execution_count": 61,
   "id": "operational-charlotte",
   "metadata": {},
   "outputs": [],
   "source": [
    "# Rename column\n",
    "df_red.rename(columns={\"date\":\"release_date\"}, inplace=True)\n",
    "# Reduce columns in final data\n",
    "df_final = df_red[['article_key', 'category', 'headline', 'short_description', 'release_date', 'keywords']]"
   ]
  },
  {
   "cell_type": "code",
   "execution_count": 62,
   "id": "understood-cemetery",
   "metadata": {},
   "outputs": [],
   "source": [
    "# Write to csv\n",
    "df_final.to_csv('articles.csv', index=False)"
   ]
  },
  {
   "cell_type": "markdown",
   "id": "decimal-skating",
   "metadata": {},
   "source": [
    "### New data processing"
   ]
  },
  {
   "cell_type": "code",
   "execution_count": 55,
   "id": "cleared-happening",
   "metadata": {},
   "outputs": [
    {
     "data": {
      "text/html": [
       "<div>\n",
       "<style scoped>\n",
       "    .dataframe tbody tr th:only-of-type {\n",
       "        vertical-align: middle;\n",
       "    }\n",
       "\n",
       "    .dataframe tbody tr th {\n",
       "        vertical-align: top;\n",
       "    }\n",
       "\n",
       "    .dataframe thead th {\n",
       "        text-align: right;\n",
       "    }\n",
       "</style>\n",
       "<table border=\"1\" class=\"dataframe\">\n",
       "  <thead>\n",
       "    <tr style=\"text-align: right;\">\n",
       "      <th></th>\n",
       "      <th>article_key</th>\n",
       "      <th>category</th>\n",
       "      <th>headline</th>\n",
       "      <th>short_description</th>\n",
       "      <th>release_date</th>\n",
       "      <th>keywords</th>\n",
       "    </tr>\n",
       "  </thead>\n",
       "  <tbody>\n",
       "    <tr>\n",
       "      <th>0</th>\n",
       "      <td>17542c2e-21f8-11ec-bdf6-acde48001122</td>\n",
       "      <td>BUSINESS</td>\n",
       "      <td>Influencer of the Week: The Tarmac Tiff Photo-Op</td>\n",
       "      <td>Arizona Governor Jan Brewer's tarmac tiff with President Obama influenced a major book bump. Who knew that her Scorpions for Breakfast tome even existed before the photo-op transformed it into a best-seller?</td>\n",
       "      <td>2012-01-29</td>\n",
       "      <td>jan-brewer-book-sales</td>\n",
       "    </tr>\n",
       "    <tr>\n",
       "      <th>1</th>\n",
       "      <td>17542d5a-21f8-11ec-bdf6-acde48001122</td>\n",
       "      <td>FOOD &amp; DRINK</td>\n",
       "      <td>Sriracha, Sapporo and 17 Other Food Brand Names You're Probably Mispronouncing</td>\n",
       "      <td>Is it Sa-POE-roe or SA-poe-roe? Don't even get us started on Sriracha and Nutella (betcha didn't know you were probably saying those wrong too).</td>\n",
       "      <td>2014-04-10</td>\n",
       "      <td>sriracha-sapporo-and-17-m</td>\n",
       "    </tr>\n",
       "  </tbody>\n",
       "</table>\n",
       "</div>"
      ],
      "text/plain": [
       "                            article_key      category  \\\n",
       "0  17542c2e-21f8-11ec-bdf6-acde48001122      BUSINESS   \n",
       "1  17542d5a-21f8-11ec-bdf6-acde48001122  FOOD & DRINK   \n",
       "\n",
       "                                                                         headline  \\\n",
       "0                                Influencer of the Week: The Tarmac Tiff Photo-Op   \n",
       "1  Sriracha, Sapporo and 17 Other Food Brand Names You're Probably Mispronouncing   \n",
       "\n",
       "                                                                                                                                                                                                 short_description  \\\n",
       "0  Arizona Governor Jan Brewer's tarmac tiff with President Obama influenced a major book bump. Who knew that her Scorpions for Breakfast tome even existed before the photo-op transformed it into a best-seller?   \n",
       "1                                                                 Is it Sa-POE-roe or SA-poe-roe? Don't even get us started on Sriracha and Nutella (betcha didn't know you were probably saying those wrong too).   \n",
       "\n",
       "  release_date                   keywords  \n",
       "0   2012-01-29      jan-brewer-book-sales  \n",
       "1   2014-04-10  sriracha-sapporo-and-17-m  "
      ]
     },
     "execution_count": 55,
     "metadata": {},
     "output_type": "execute_result"
    }
   ],
   "source": [
    "# Work on existing data\n",
    "import pandas as pd\n",
    "df = pd.read_csv('articles.csv')\n",
    "df.head(2)"
   ]
  },
  {
   "cell_type": "code",
   "execution_count": 56,
   "id": "technical-photographer",
   "metadata": {},
   "outputs": [],
   "source": [
    "# Replace punctuation\n",
    "df['short_description'] = df['short_description'].str.replace(r'[/!/?]', '/.', regex=True)\n",
    "\n",
    "# Add punctuation to cells that don't end with a period\n",
    "df.loc[~df.short_description.str.contains('\\.', regex=True), 'short_description'] = \\\n",
    "    df.loc[~df.short_description.str.contains('\\.', regex=True), 'short_description'] + '.'\n",
    "\n",
    "df['short_description'] = df.short_description.str.replace('/.', '.', regex=False)"
   ]
  },
  {
   "cell_type": "code",
   "execution_count": 57,
   "id": "preliminary-encounter",
   "metadata": {},
   "outputs": [],
   "source": [
    "# Write to csv\n",
    "df.to_csv('news_articles.csv', index=False)"
   ]
  },
  {
   "cell_type": "code",
   "execution_count": null,
   "id": "39ffd476",
   "metadata": {},
   "outputs": [],
   "source": []
  }
 ],
 "metadata": {
  "kernelspec": {
   "display_name": "Python 3 (ipykernel)",
   "language": "python",
   "name": "python3"
  },
  "language_info": {
   "codemirror_mode": {
    "name": "ipython",
    "version": 3
   },
   "file_extension": ".py",
   "mimetype": "text/x-python",
   "name": "python",
   "nbconvert_exporter": "python",
   "pygments_lexer": "ipython3",
   "version": "3.9.6"
  }
 },
 "nbformat": 4,
 "nbformat_minor": 5
}
